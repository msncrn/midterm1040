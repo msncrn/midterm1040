{
 "cells": [
  {
   "cell_type": "code",
   "execution_count": 1,
   "id": "7b36d2e2-c926-4f4f-9a26-0d6c62ed833c",
   "metadata": {
    "tags": []
   },
   "outputs": [
    {
     "name": "stdout",
     "output_type": "stream",
     "text": [
      "dryer: 0.49999999999999994 kWh, $0.05499999999999999\n",
      "laptop: 0.45000000000000034 kWh, $0.049499999999999864\n",
      "laptop: 0.6249999999999977 kWh, $0.19025000000000053\n",
      "Electricity Used: 1.574999999999998 kWh\n",
      "Final Cost: $0.2947500000000004\n"
     ]
    }
   ],
   "source": [
    "def total_cost_calc(kwh, start_time, time_used):\n",
    "    elec_rates = [(0, 5, 0.05), (6, 15, 0.11), (16, 19, 0.38), (20, 23, 0.11)]\n",
    "    total_cost = 0\n",
    "    total_elec = 0\n",
    "    inith, initm = map(int, start_time.split(\":\"))\n",
    "    for minute in range(time_used):\n",
    "        fh = (inith + minute // 60) % 24\n",
    "        rate = None\n",
    "        for rate_duration in elec_rates:\n",
    "            starth, endh, rate_cost = rate_duration\n",
    "            if starth <= fh <= endh:\n",
    "                rate = rate_cost\n",
    "        if rate is not None:\n",
    "            elec_used = kwh / 60\n",
    "            cost = elec_used * rate\n",
    "            total_cost += cost\n",
    "            total_elec += elec_used\n",
    "    return total_elec, total_cost\n",
    "\n",
    "def records(usage_records):\n",
    "    total_cost = 0\n",
    "    total_elec = 0\n",
    "    for record in usage_records:\n",
    "        device, kwh, start_time, time_used = record\n",
    "        elec_used, cost = total_cost_calc(kwh, start_time, time_used)\n",
    "        print(device + \": \" + str(elec_used) + \" kWh, $\" + str(cost))\n",
    "        total_elec += elec_used\n",
    "        total_cost += cost\n",
    "    print(\"Electricity Used: \" + str(total_elec) + \" kWh\")\n",
    "    print(\"Final Cost: $\" + str(total_cost))\n",
    "\n",
    "usage_record = [[\"dryer\", 3, \"07:55\", 10], [\"laptop\", 0.15, \"09:00\", 180], [\"laptop\", 0.15, \"17:00\", 250]]\n",
    "\n",
    "records(usage_record)\n"
   ]
  },
  {
   "cell_type": "code",
   "execution_count": null,
   "id": "5ea087df-a5eb-4d62-b95f-84bfd2999d65",
   "metadata": {},
   "outputs": [],
   "source": []
  }
 ],
 "metadata": {
  "kernelspec": {
   "display_name": "Python 3 (ipykernel)",
   "language": "python",
   "name": "python3"
  },
  "language_info": {
   "codemirror_mode": {
    "name": "ipython",
    "version": 3
   },
   "file_extension": ".py",
   "mimetype": "text/x-python",
   "name": "python",
   "nbconvert_exporter": "python",
   "pygments_lexer": "ipython3",
   "version": "3.11.3"
  }
 },
 "nbformat": 4,
 "nbformat_minor": 5
}
